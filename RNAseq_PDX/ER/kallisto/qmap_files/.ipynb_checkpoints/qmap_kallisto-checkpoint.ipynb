{
 "cells": [
  {
   "cell_type": "markdown",
   "metadata": {},
   "source": [
    "# QMap file for kallisto"
   ]
  },
  {
   "cell_type": "code",
   "execution_count": 1,
   "metadata": {},
   "outputs": [],
   "source": [
    "import os\n",
    "import pandas as pd"
   ]
  },
  {
   "cell_type": "code",
   "execution_count": 3,
   "metadata": {},
   "outputs": [
    {
     "data": {
      "text/plain": [
       "['6039_4_CF46801_TGACCAA_S7_R2.fastq.gz',\n",
       " '6039_5_CF46802_ACAGTGA_S6_R1.fastq.gz',\n",
       " '6039_5_CF46802_ACAGTGA_S6_R2.fastq.gz',\n",
       " '6039_6_CF46803_GCCAATA_S9_R1.fastq.gz',\n",
       " '6039_6_CF46803_GCCAATA_S9_R2.fastq.gz',\n",
       " '6039_7_CF46804_CAGATCA_S10_R2.fastq.gz',\n",
       " '6039_7_CF46804_CAGATCA_S10_R1.fastq.gz',\n",
       " '6039_8_CF46805_ACTTGAA_S11_R1.fastq.gz',\n",
       " '6039_8_CF46805_ACTTGAA_S11_R2.fastq.gz',\n",
       " '6039_9_CF47000_GATCAGA_S12_R1.fastq.gz',\n",
       " '6039_9_CF47000_GATCAGA_S12_R2.fastq.gz',\n",
       " '6039_10_CF47001_TAGCTTA_S1_R2.fastq.gz',\n",
       " '6039_11_CF47002_GGCTACA_S3_R1.fastq.gz',\n",
       " '6039_11_CF47002_GGCTACA_S3_R2.fastq.gz',\n",
       " '6039_12_CF47003_CTTGTAA_S5_R1.fastq.gz',\n",
       " '6039_12_CF47003_CTTGTAA_S5_R2.fastq.gz',\n",
       " '6039_13_CF47004_AGTCAAC_S13_R1.fastq.gz',\n",
       " '6039_13_CF47004_AGTCAAC_S13_R2.fastq.gz',\n",
       " '6039_14_CF47005_AGTTCCG_S14_R1.fastq.gz',\n",
       " '6039_14_CF47005_AGTTCCG_S14_R2.fastq.gz',\n",
       " '6039_15_CF47006_ATGTCAG_S15_R1.fastq.gz',\n",
       " '6039_15_CF47006_ATGTCAG_S15_R2.fastq.gz',\n",
       " '6039_16_CF47007_CCGTCCC_S16_R1.fastq.gz',\n",
       " '6039_16_CF47007_CCGTCCC_S16_R2.fastq.gz',\n",
       " '6039_17_CF47008_GTCCGCA_S17_R1.fastq.gz',\n",
       " '6039_17_CF47008_GTCCGCA_S17_R2.fastq.gz',\n",
       " '6039_18_CF47009_GTGAAAC_S18_R1.fastq.gz',\n",
       " '6039_18_CF47009_GTGAAAC_S18_R2.fastq.gz',\n",
       " '6118_1_CF47983_AGTCAAC_S19_R1.fastq.gz',\n",
       " '6118_1_CF47983_AGTCAAC_S19_R2.fastq.gz',\n",
       " '6118_2_CF47984_AGTTCCG_S20_R1.fastq.gz',\n",
       " '6118_2_CF47984_AGTTCCG_S20_R2.fastq.gz',\n",
       " '6118_3_CF47985_ATGTCAG_S21_R1.fastq.gz',\n",
       " '6118_3_CF47985_ATGTCAG_S21_R2.fastq.gz',\n",
       " '6039_1_CF46798_ATCACGA_S2_R1.fastq.gz',\n",
       " '6039_1_CF46798_ATCACGA_S2_R2.fastq.gz',\n",
       " '6039_2_CF46799_CGATGTA_S4_R1.fastq.gz',\n",
       " '6039_2_CF46799_CGATGTA_S4_R2.fastq.gz',\n",
       " '6039_3_CF46800_TTAGGCA_S8_R1.fastq.gz',\n",
       " '6039_3_CF46800_TTAGGCA_S8_R2.fastq.gz',\n",
       " '6039_4_CF46801_TGACCAA_S7_R1.fastq.gz',\n",
       " '6039_10_CF47001_TAGCTTA_S1_R1.fastq.gz']"
      ]
     },
     "execution_count": 3,
     "metadata": {},
     "output_type": "execute_result"
    }
   ],
   "source": [
    "root = '/media/msanchezg/My Book/'\n",
    "fastq_files = os.listdir(root)\n",
    "fastq_files = [fastq_file for fastq_file in fastq_files if 'fastq.gz' in fastq_file]\n",
    "fastq_files = [fastq_file for fastq_file in fastq_files if 'CF' in fastq_file]\n",
    "fastq_files"
   ]
  },
  {
   "cell_type": "code",
   "execution_count": 4,
   "metadata": {},
   "outputs": [
    {
     "name": "stdout",
     "output_type": "stream",
     "text": [
      "42\n",
      "21\n"
     ]
    }
   ],
   "source": [
    "samples = []\n",
    "for file in fastq_files:\n",
    "    sample = file.split('_')[2]\n",
    "    samples.append(sample)\n",
    "print(len(samples)) # paired files\n",
    "print(len(set(samples))) #21 samples in total\n",
    "samples = list(set(samples))"
   ]
  },
  {
   "cell_type": "code",
   "execution_count": 5,
   "metadata": {},
   "outputs": [
    {
     "name": "stdout",
     "output_type": "stream",
     "text": [
      "CF46805 folder is already created\n",
      "CF46804 folder is already created\n",
      "CF47009 folder is already created\n",
      "CF46803 folder is already created\n",
      "CF47984 folder is already created\n",
      "CF46798 folder is already created\n",
      "CF47985 folder is already created\n",
      "CF47007 folder is already created\n",
      "CF46801 folder is already created\n",
      "CF47000 folder is already created\n",
      "CF47003 folder is already created\n",
      "CF47006 folder is already created\n",
      "CF46800 folder is already created\n",
      "CF47005 folder is already created\n",
      "CF46799 folder is already created\n",
      "CF47004 folder is already created\n",
      "CF47001 folder is already created\n",
      "CF46802 folder is already created\n",
      "CF47983 folder is already created\n",
      "CF47008 folder is already created\n",
      "CF47002 folder is already created\n"
     ]
    }
   ],
   "source": [
    "for sample in samples:\n",
    "    try:\n",
    "        os.mkdir('../output/'+sample)\n",
    "    except:\n",
    "        print(sample,'folder is already created')"
   ]
  },
  {
   "cell_type": "code",
   "execution_count": 9,
   "metadata": {},
   "outputs": [
    {
     "name": "stdout",
     "output_type": "stream",
     "text": [
      "['6039_8_CF46805_ACTTGAA_S11_R1.fastq.gz', '6039_8_CF46805_ACTTGAA_S11_R2.fastq.gz']\n",
      "6039_8_CF46805_ACTTGAA_S11_R1.fastq.gz\n",
      "['6039_7_CF46804_CAGATCA_S10_R2.fastq.gz', '6039_7_CF46804_CAGATCA_S10_R1.fastq.gz']\n",
      "6039_7_CF46804_CAGATCA_S10_R1.fastq.gz\n",
      "['6039_18_CF47009_GTGAAAC_S18_R1.fastq.gz', '6039_18_CF47009_GTGAAAC_S18_R2.fastq.gz']\n",
      "6039_18_CF47009_GTGAAAC_S18_R1.fastq.gz\n",
      "['6039_6_CF46803_GCCAATA_S9_R1.fastq.gz', '6039_6_CF46803_GCCAATA_S9_R2.fastq.gz']\n",
      "6039_6_CF46803_GCCAATA_S9_R1.fastq.gz\n",
      "['6118_2_CF47984_AGTTCCG_S20_R1.fastq.gz', '6118_2_CF47984_AGTTCCG_S20_R2.fastq.gz']\n",
      "6118_2_CF47984_AGTTCCG_S20_R1.fastq.gz\n",
      "['6039_1_CF46798_ATCACGA_S2_R1.fastq.gz', '6039_1_CF46798_ATCACGA_S2_R2.fastq.gz']\n",
      "6039_1_CF46798_ATCACGA_S2_R1.fastq.gz\n",
      "['6118_3_CF47985_ATGTCAG_S21_R1.fastq.gz', '6118_3_CF47985_ATGTCAG_S21_R2.fastq.gz']\n",
      "6118_3_CF47985_ATGTCAG_S21_R1.fastq.gz\n",
      "['6039_16_CF47007_CCGTCCC_S16_R1.fastq.gz', '6039_16_CF47007_CCGTCCC_S16_R2.fastq.gz']\n",
      "6039_16_CF47007_CCGTCCC_S16_R1.fastq.gz\n",
      "['6039_4_CF46801_TGACCAA_S7_R2.fastq.gz', '6039_4_CF46801_TGACCAA_S7_R1.fastq.gz']\n",
      "6039_4_CF46801_TGACCAA_S7_R1.fastq.gz\n",
      "['6039_9_CF47000_GATCAGA_S12_R1.fastq.gz', '6039_9_CF47000_GATCAGA_S12_R2.fastq.gz']\n",
      "6039_9_CF47000_GATCAGA_S12_R1.fastq.gz\n",
      "['6039_12_CF47003_CTTGTAA_S5_R1.fastq.gz', '6039_12_CF47003_CTTGTAA_S5_R2.fastq.gz']\n",
      "6039_12_CF47003_CTTGTAA_S5_R1.fastq.gz\n",
      "['6039_15_CF47006_ATGTCAG_S15_R1.fastq.gz', '6039_15_CF47006_ATGTCAG_S15_R2.fastq.gz']\n",
      "6039_15_CF47006_ATGTCAG_S15_R1.fastq.gz\n",
      "['6039_3_CF46800_TTAGGCA_S8_R1.fastq.gz', '6039_3_CF46800_TTAGGCA_S8_R2.fastq.gz']\n",
      "6039_3_CF46800_TTAGGCA_S8_R1.fastq.gz\n",
      "['6039_14_CF47005_AGTTCCG_S14_R1.fastq.gz', '6039_14_CF47005_AGTTCCG_S14_R2.fastq.gz']\n",
      "6039_14_CF47005_AGTTCCG_S14_R1.fastq.gz\n",
      "['6039_2_CF46799_CGATGTA_S4_R1.fastq.gz', '6039_2_CF46799_CGATGTA_S4_R2.fastq.gz']\n",
      "6039_2_CF46799_CGATGTA_S4_R1.fastq.gz\n",
      "['6039_13_CF47004_AGTCAAC_S13_R1.fastq.gz', '6039_13_CF47004_AGTCAAC_S13_R2.fastq.gz']\n",
      "6039_13_CF47004_AGTCAAC_S13_R1.fastq.gz\n",
      "['6039_10_CF47001_TAGCTTA_S1_R2.fastq.gz', '6039_10_CF47001_TAGCTTA_S1_R1.fastq.gz']\n",
      "6039_10_CF47001_TAGCTTA_S1_R1.fastq.gz\n",
      "['6039_5_CF46802_ACAGTGA_S6_R1.fastq.gz', '6039_5_CF46802_ACAGTGA_S6_R2.fastq.gz']\n",
      "6039_5_CF46802_ACAGTGA_S6_R1.fastq.gz\n",
      "['6118_1_CF47983_AGTCAAC_S19_R1.fastq.gz', '6118_1_CF47983_AGTCAAC_S19_R2.fastq.gz']\n",
      "6118_1_CF47983_AGTCAAC_S19_R1.fastq.gz\n",
      "['6039_17_CF47008_GTCCGCA_S17_R1.fastq.gz', '6039_17_CF47008_GTCCGCA_S17_R2.fastq.gz']\n",
      "6039_17_CF47008_GTCCGCA_S17_R1.fastq.gz\n",
      "['6039_11_CF47002_GGCTACA_S3_R1.fastq.gz', '6039_11_CF47002_GGCTACA_S3_R2.fastq.gz']\n",
      "6039_11_CF47002_GGCTACA_S3_R1.fastq.gz\n"
     ]
    },
    {
     "data": {
      "text/plain": [
       "['kallisto quant -i /media/msanchezg/My\\\\ Book/FGFR_project/RNAseq/kallisto/index/homo_sapiens/transcriptome.idx -o /media/msanchezg/My\\\\ Book/FGFR_project/RNAseq/kallisto/output/CF46805/ /media/msanchezg/My\\\\ Book/FGFR_project/RNAseq/fastq/6039_8_CF46805_ACTTGAA_S11_R1.fastq.gz /media/msanchezg/My\\\\ Book/FGFR_project/RNAseq/fastq/6039_8_CF46805_ACTTGAA_S11_R2.fastq.gz',\n",
       " 'kallisto quant -i /media/msanchezg/My\\\\ Book/FGFR_project/RNAseq/kallisto/index/homo_sapiens/transcriptome.idx -o /media/msanchezg/My\\\\ Book/FGFR_project/RNAseq/kallisto/output/CF46804/ /media/msanchezg/My\\\\ Book/FGFR_project/RNAseq/fastq/6039_7_CF46804_CAGATCA_S10_R1.fastq.gz /media/msanchezg/My\\\\ Book/FGFR_project/RNAseq/fastq/6039_7_CF46804_CAGATCA_S10_R2.fastq.gz',\n",
       " 'kallisto quant -i /media/msanchezg/My\\\\ Book/FGFR_project/RNAseq/kallisto/index/homo_sapiens/transcriptome.idx -o /media/msanchezg/My\\\\ Book/FGFR_project/RNAseq/kallisto/output/CF47009/ /media/msanchezg/My\\\\ Book/FGFR_project/RNAseq/fastq/6039_18_CF47009_GTGAAAC_S18_R1.fastq.gz /media/msanchezg/My\\\\ Book/FGFR_project/RNAseq/fastq/6039_18_CF47009_GTGAAAC_S18_R2.fastq.gz',\n",
       " 'kallisto quant -i /media/msanchezg/My\\\\ Book/FGFR_project/RNAseq/kallisto/index/homo_sapiens/transcriptome.idx -o /media/msanchezg/My\\\\ Book/FGFR_project/RNAseq/kallisto/output/CF46803/ /media/msanchezg/My\\\\ Book/FGFR_project/RNAseq/fastq/6039_6_CF46803_GCCAATA_S9_R1.fastq.gz /media/msanchezg/My\\\\ Book/FGFR_project/RNAseq/fastq/6039_6_CF46803_GCCAATA_S9_R2.fastq.gz',\n",
       " 'kallisto quant -i /media/msanchezg/My\\\\ Book/FGFR_project/RNAseq/kallisto/index/homo_sapiens/transcriptome.idx -o /media/msanchezg/My\\\\ Book/FGFR_project/RNAseq/kallisto/output/CF47984/ /media/msanchezg/My\\\\ Book/FGFR_project/RNAseq/fastq/6118_2_CF47984_AGTTCCG_S20_R1.fastq.gz /media/msanchezg/My\\\\ Book/FGFR_project/RNAseq/fastq/6118_2_CF47984_AGTTCCG_S20_R2.fastq.gz',\n",
       " 'kallisto quant -i /media/msanchezg/My\\\\ Book/FGFR_project/RNAseq/kallisto/index/homo_sapiens/transcriptome.idx -o /media/msanchezg/My\\\\ Book/FGFR_project/RNAseq/kallisto/output/CF46798/ /media/msanchezg/My\\\\ Book/FGFR_project/RNAseq/fastq/6039_1_CF46798_ATCACGA_S2_R1.fastq.gz /media/msanchezg/My\\\\ Book/FGFR_project/RNAseq/fastq/6039_1_CF46798_ATCACGA_S2_R2.fastq.gz',\n",
       " 'kallisto quant -i /media/msanchezg/My\\\\ Book/FGFR_project/RNAseq/kallisto/index/homo_sapiens/transcriptome.idx -o /media/msanchezg/My\\\\ Book/FGFR_project/RNAseq/kallisto/output/CF47985/ /media/msanchezg/My\\\\ Book/FGFR_project/RNAseq/fastq/6118_3_CF47985_ATGTCAG_S21_R1.fastq.gz /media/msanchezg/My\\\\ Book/FGFR_project/RNAseq/fastq/6118_3_CF47985_ATGTCAG_S21_R2.fastq.gz',\n",
       " 'kallisto quant -i /media/msanchezg/My\\\\ Book/FGFR_project/RNAseq/kallisto/index/homo_sapiens/transcriptome.idx -o /media/msanchezg/My\\\\ Book/FGFR_project/RNAseq/kallisto/output/CF47007/ /media/msanchezg/My\\\\ Book/FGFR_project/RNAseq/fastq/6039_16_CF47007_CCGTCCC_S16_R1.fastq.gz /media/msanchezg/My\\\\ Book/FGFR_project/RNAseq/fastq/6039_16_CF47007_CCGTCCC_S16_R2.fastq.gz',\n",
       " 'kallisto quant -i /media/msanchezg/My\\\\ Book/FGFR_project/RNAseq/kallisto/index/homo_sapiens/transcriptome.idx -o /media/msanchezg/My\\\\ Book/FGFR_project/RNAseq/kallisto/output/CF46801/ /media/msanchezg/My\\\\ Book/FGFR_project/RNAseq/fastq/6039_4_CF46801_TGACCAA_S7_R1.fastq.gz /media/msanchezg/My\\\\ Book/FGFR_project/RNAseq/fastq/6039_4_CF46801_TGACCAA_S7_R2.fastq.gz',\n",
       " 'kallisto quant -i /media/msanchezg/My\\\\ Book/FGFR_project/RNAseq/kallisto/index/homo_sapiens/transcriptome.idx -o /media/msanchezg/My\\\\ Book/FGFR_project/RNAseq/kallisto/output/CF47000/ /media/msanchezg/My\\\\ Book/FGFR_project/RNAseq/fastq/6039_9_CF47000_GATCAGA_S12_R1.fastq.gz /media/msanchezg/My\\\\ Book/FGFR_project/RNAseq/fastq/6039_9_CF47000_GATCAGA_S12_R2.fastq.gz',\n",
       " 'kallisto quant -i /media/msanchezg/My\\\\ Book/FGFR_project/RNAseq/kallisto/index/homo_sapiens/transcriptome.idx -o /media/msanchezg/My\\\\ Book/FGFR_project/RNAseq/kallisto/output/CF47003/ /media/msanchezg/My\\\\ Book/FGFR_project/RNAseq/fastq/6039_12_CF47003_CTTGTAA_S5_R1.fastq.gz /media/msanchezg/My\\\\ Book/FGFR_project/RNAseq/fastq/6039_12_CF47003_CTTGTAA_S5_R2.fastq.gz',\n",
       " 'kallisto quant -i /media/msanchezg/My\\\\ Book/FGFR_project/RNAseq/kallisto/index/homo_sapiens/transcriptome.idx -o /media/msanchezg/My\\\\ Book/FGFR_project/RNAseq/kallisto/output/CF47006/ /media/msanchezg/My\\\\ Book/FGFR_project/RNAseq/fastq/6039_15_CF47006_ATGTCAG_S15_R1.fastq.gz /media/msanchezg/My\\\\ Book/FGFR_project/RNAseq/fastq/6039_15_CF47006_ATGTCAG_S15_R2.fastq.gz',\n",
       " 'kallisto quant -i /media/msanchezg/My\\\\ Book/FGFR_project/RNAseq/kallisto/index/homo_sapiens/transcriptome.idx -o /media/msanchezg/My\\\\ Book/FGFR_project/RNAseq/kallisto/output/CF46800/ /media/msanchezg/My\\\\ Book/FGFR_project/RNAseq/fastq/6039_3_CF46800_TTAGGCA_S8_R1.fastq.gz /media/msanchezg/My\\\\ Book/FGFR_project/RNAseq/fastq/6039_3_CF46800_TTAGGCA_S8_R2.fastq.gz',\n",
       " 'kallisto quant -i /media/msanchezg/My\\\\ Book/FGFR_project/RNAseq/kallisto/index/homo_sapiens/transcriptome.idx -o /media/msanchezg/My\\\\ Book/FGFR_project/RNAseq/kallisto/output/CF47005/ /media/msanchezg/My\\\\ Book/FGFR_project/RNAseq/fastq/6039_14_CF47005_AGTTCCG_S14_R1.fastq.gz /media/msanchezg/My\\\\ Book/FGFR_project/RNAseq/fastq/6039_14_CF47005_AGTTCCG_S14_R2.fastq.gz',\n",
       " 'kallisto quant -i /media/msanchezg/My\\\\ Book/FGFR_project/RNAseq/kallisto/index/homo_sapiens/transcriptome.idx -o /media/msanchezg/My\\\\ Book/FGFR_project/RNAseq/kallisto/output/CF46799/ /media/msanchezg/My\\\\ Book/FGFR_project/RNAseq/fastq/6039_2_CF46799_CGATGTA_S4_R1.fastq.gz /media/msanchezg/My\\\\ Book/FGFR_project/RNAseq/fastq/6039_2_CF46799_CGATGTA_S4_R2.fastq.gz',\n",
       " 'kallisto quant -i /media/msanchezg/My\\\\ Book/FGFR_project/RNAseq/kallisto/index/homo_sapiens/transcriptome.idx -o /media/msanchezg/My\\\\ Book/FGFR_project/RNAseq/kallisto/output/CF47004/ /media/msanchezg/My\\\\ Book/FGFR_project/RNAseq/fastq/6039_13_CF47004_AGTCAAC_S13_R1.fastq.gz /media/msanchezg/My\\\\ Book/FGFR_project/RNAseq/fastq/6039_13_CF47004_AGTCAAC_S13_R2.fastq.gz',\n",
       " 'kallisto quant -i /media/msanchezg/My\\\\ Book/FGFR_project/RNAseq/kallisto/index/homo_sapiens/transcriptome.idx -o /media/msanchezg/My\\\\ Book/FGFR_project/RNAseq/kallisto/output/CF47001/ /media/msanchezg/My\\\\ Book/FGFR_project/RNAseq/fastq/6039_10_CF47001_TAGCTTA_S1_R1.fastq.gz /media/msanchezg/My\\\\ Book/FGFR_project/RNAseq/fastq/6039_10_CF47001_TAGCTTA_S1_R2.fastq.gz',\n",
       " 'kallisto quant -i /media/msanchezg/My\\\\ Book/FGFR_project/RNAseq/kallisto/index/homo_sapiens/transcriptome.idx -o /media/msanchezg/My\\\\ Book/FGFR_project/RNAseq/kallisto/output/CF46802/ /media/msanchezg/My\\\\ Book/FGFR_project/RNAseq/fastq/6039_5_CF46802_ACAGTGA_S6_R1.fastq.gz /media/msanchezg/My\\\\ Book/FGFR_project/RNAseq/fastq/6039_5_CF46802_ACAGTGA_S6_R2.fastq.gz',\n",
       " 'kallisto quant -i /media/msanchezg/My\\\\ Book/FGFR_project/RNAseq/kallisto/index/homo_sapiens/transcriptome.idx -o /media/msanchezg/My\\\\ Book/FGFR_project/RNAseq/kallisto/output/CF47983/ /media/msanchezg/My\\\\ Book/FGFR_project/RNAseq/fastq/6118_1_CF47983_AGTCAAC_S19_R1.fastq.gz /media/msanchezg/My\\\\ Book/FGFR_project/RNAseq/fastq/6118_1_CF47983_AGTCAAC_S19_R2.fastq.gz',\n",
       " 'kallisto quant -i /media/msanchezg/My\\\\ Book/FGFR_project/RNAseq/kallisto/index/homo_sapiens/transcriptome.idx -o /media/msanchezg/My\\\\ Book/FGFR_project/RNAseq/kallisto/output/CF47008/ /media/msanchezg/My\\\\ Book/FGFR_project/RNAseq/fastq/6039_17_CF47008_GTCCGCA_S17_R1.fastq.gz /media/msanchezg/My\\\\ Book/FGFR_project/RNAseq/fastq/6039_17_CF47008_GTCCGCA_S17_R2.fastq.gz',\n",
       " 'kallisto quant -i /media/msanchezg/My\\\\ Book/FGFR_project/RNAseq/kallisto/index/homo_sapiens/transcriptome.idx -o /media/msanchezg/My\\\\ Book/FGFR_project/RNAseq/kallisto/output/CF47002/ /media/msanchezg/My\\\\ Book/FGFR_project/RNAseq/fastq/6039_11_CF47002_GGCTACA_S3_R1.fastq.gz /media/msanchezg/My\\\\ Book/FGFR_project/RNAseq/fastq/6039_11_CF47002_GGCTACA_S3_R2.fastq.gz']"
      ]
     },
     "execution_count": 9,
     "metadata": {},
     "output_type": "execute_result"
    }
   ],
   "source": [
    "commands = []\n",
    "for sample in samples:\n",
    "    index_file = root.replace('/fastq/','/kallisto/index/homo_sapiens/transcriptome.idx')\n",
    "    output_dire = root.replace('/fastq/','/kallisto/output/')\n",
    "    fastq = [fastq_file for fastq_file in fastq_files if sample in fastq_file] \n",
    "    print(fastq)\n",
    "    fastq1 = [file for file in fastq if 'R1' in file]\n",
    "    fastq2 = [file for file in fastq if 'R2' in file]\n",
    "    print(fastq1[0])\n",
    "    command = 'kallisto quant -i '+ index_file +' -o ' + output_dire + sample + '/ ' + root + fastq1[0] +' '+ root + fastq2[0]\n",
    "    command = command.replace('My Book','My\\ Book')\n",
    "    commands.append(command)\n",
    "commands"
   ]
  },
  {
   "cell_type": "code",
   "execution_count": 10,
   "metadata": {},
   "outputs": [],
   "source": [
    "with open('kallisto_patients_nki.qmap', 'w') as f:\n",
    "    for command in commands:\n",
    "        f.write('%s\\n' % command)"
   ]
  }
 ],
 "metadata": {
  "kernelspec": {
   "display_name": "Python 3",
   "language": "python",
   "name": "python3"
  },
  "language_info": {
   "codemirror_mode": {
    "name": "ipython",
    "version": 3
   },
   "file_extension": ".py",
   "mimetype": "text/x-python",
   "name": "python",
   "nbconvert_exporter": "python",
   "pygments_lexer": "ipython3",
   "version": "3.8.3"
  }
 },
 "nbformat": 4,
 "nbformat_minor": 4
}
