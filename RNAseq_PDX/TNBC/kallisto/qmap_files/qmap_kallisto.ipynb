{
 "cells": [
  {
   "cell_type": "markdown",
   "metadata": {},
   "source": [
    "# QMap file for kallisto"
   ]
  },
  {
   "cell_type": "code",
   "execution_count": 1,
   "metadata": {},
   "outputs": [],
   "source": [
    "import os\n",
    "import pandas as pd\n",
    "import gzip"
   ]
  },
  {
   "cell_type": "code",
   "execution_count": 11,
   "metadata": {},
   "outputs": [
    {
     "data": {
      "text/plain": [
       "['PDX156_RNA-seq_1.fq',\n",
       " 'PDX156_RNA-seq_2.fq',\n",
       " 'PDX288_RNA-seq_1.fq',\n",
       " 'PDX288_RNA-seq_2.fq',\n",
       " 'PDX291B_RNA-seq_1.fq',\n",
       " 'PDX291B_RNA-seq_2.fq',\n",
       " 'PDX296_RNA-seq_1.fq',\n",
       " 'PDX296_RNA-seq_2.fq',\n",
       " 'PDX302_RNA-seq_1.fq',\n",
       " 'PDX302_RNA-seq_2.fq']"
      ]
     },
     "execution_count": 11,
     "metadata": {},
     "output_type": "execute_result"
    }
   ],
   "source": [
    "root = '/media/msanchezg/My Book/FGFR_project/RNAseq_PDX/TNBC/fastq/'\n",
    "fastq_files = os.listdir(root)\n",
    "fastq_files = [fastq_file for fastq_file in fastq_files if '.fq' in fastq_file]\n",
    "fastq_files"
   ]
  },
  {
   "cell_type": "code",
   "execution_count": 12,
   "metadata": {},
   "outputs": [
    {
     "name": "stdout",
     "output_type": "stream",
     "text": [
      "10\n"
     ]
    },
    {
     "data": {
      "text/plain": [
       "['PDX291B', 'PDX302', 'PDX288', 'PDX296', 'PDX156']"
      ]
     },
     "execution_count": 12,
     "metadata": {},
     "output_type": "execute_result"
    }
   ],
   "source": [
    "samples = []\n",
    "for file in fastq_files:\n",
    "    sample = file.split('_')\n",
    "    sam = [s for s in sample if 'PDX' in s]\n",
    "    samples.append(sam[0])\n",
    "print(len(samples)) #total numner of files\n",
    "samples = list(set(samples)) #Numer of samples\n",
    "samples"
   ]
  },
  {
   "cell_type": "code",
   "execution_count": 13,
   "metadata": {},
   "outputs": [
    {
     "name": "stdout",
     "output_type": "stream",
     "text": [
      "PDX291B folder is already created\n",
      "PDX288 folder is already created\n",
      "PDX296 folder is already created\n",
      "PDX156 folder is already created\n"
     ]
    }
   ],
   "source": [
    "for sample in samples:\n",
    "    try:\n",
    "        os.mkdir('../output/'+sample)\n",
    "    except:\n",
    "        print(sample,'folder is already created')"
   ]
  },
  {
   "cell_type": "code",
   "execution_count": 14,
   "metadata": {},
   "outputs": [
    {
     "data": {
      "text/plain": [
       "['kallisto quant -i /media/msanchezg/My\\\\ Book/FGFR_project/RNAseq/kallisto/index/homo_sapiens/transcriptome.idx -o /media/msanchezg/My\\\\ Book/FGFR_project/RNAseq_PDX/TNBC/kallisto/output/PDX291B/ /media/msanchezg/My\\\\ Book/FGFR_project/RNAseq_PDX/TNBC/fastq/PDX291B_RNA-seq_1.fq /media/msanchezg/My\\\\ Book/FGFR_project/RNAseq_PDX/TNBC/fastq/PDX291B_RNA-seq_2.fq',\n",
       " 'kallisto quant -i /media/msanchezg/My\\\\ Book/FGFR_project/RNAseq/kallisto/index/homo_sapiens/transcriptome.idx -o /media/msanchezg/My\\\\ Book/FGFR_project/RNAseq_PDX/TNBC/kallisto/output/PDX302/ /media/msanchezg/My\\\\ Book/FGFR_project/RNAseq_PDX/TNBC/fastq/PDX302_RNA-seq_1.fq /media/msanchezg/My\\\\ Book/FGFR_project/RNAseq_PDX/TNBC/fastq/PDX302_RNA-seq_2.fq',\n",
       " 'kallisto quant -i /media/msanchezg/My\\\\ Book/FGFR_project/RNAseq/kallisto/index/homo_sapiens/transcriptome.idx -o /media/msanchezg/My\\\\ Book/FGFR_project/RNAseq_PDX/TNBC/kallisto/output/PDX288/ /media/msanchezg/My\\\\ Book/FGFR_project/RNAseq_PDX/TNBC/fastq/PDX288_RNA-seq_1.fq /media/msanchezg/My\\\\ Book/FGFR_project/RNAseq_PDX/TNBC/fastq/PDX288_RNA-seq_2.fq',\n",
       " 'kallisto quant -i /media/msanchezg/My\\\\ Book/FGFR_project/RNAseq/kallisto/index/homo_sapiens/transcriptome.idx -o /media/msanchezg/My\\\\ Book/FGFR_project/RNAseq_PDX/TNBC/kallisto/output/PDX296/ /media/msanchezg/My\\\\ Book/FGFR_project/RNAseq_PDX/TNBC/fastq/PDX296_RNA-seq_1.fq /media/msanchezg/My\\\\ Book/FGFR_project/RNAseq_PDX/TNBC/fastq/PDX296_RNA-seq_2.fq',\n",
       " 'kallisto quant -i /media/msanchezg/My\\\\ Book/FGFR_project/RNAseq/kallisto/index/homo_sapiens/transcriptome.idx -o /media/msanchezg/My\\\\ Book/FGFR_project/RNAseq_PDX/TNBC/kallisto/output/PDX156/ /media/msanchezg/My\\\\ Book/FGFR_project/RNAseq_PDX/TNBC/fastq/PDX156_RNA-seq_1.fq /media/msanchezg/My\\\\ Book/FGFR_project/RNAseq_PDX/TNBC/fastq/PDX156_RNA-seq_2.fq']"
      ]
     },
     "execution_count": 14,
     "metadata": {},
     "output_type": "execute_result"
    }
   ],
   "source": [
    "commands = []\n",
    "for sample in samples:\n",
    "    index_file = root.replace('/RNAseq_PDX/TNBC/fastq/','/RNAseq/kallisto/index/homo_sapiens/transcriptome.idx')\n",
    "    output_dire = root.replace('/fastq/','/kallisto/output/')\n",
    "    fastq = [fastq_file for fastq_file in fastq_files if sample in fastq_file]\n",
    "    fastq1 = [f for f in fastq if '_1.fq' in f]\n",
    "    fastq2 = [f for f in fastq if '_2.fq' in f]\n",
    "    command = 'kallisto quant -i '+ index_file +' -o ' + output_dire +sample+'/ '+ root + fastq1[0] +' '+ root + fastq2[0]  \n",
    "    command = command.replace('My Book','My\\ Book')\n",
    "    commands.append(command)\n",
    "commands"
   ]
  },
  {
   "cell_type": "code",
   "execution_count": 15,
   "metadata": {},
   "outputs": [],
   "source": [
    "with open('kallisto_pdx_tnbc.qmap', 'w') as f:\n",
    "    for command in commands:\n",
    "        f.write('%s\\n' % command)"
   ]
  }
 ],
 "metadata": {
  "kernelspec": {
   "display_name": "Python 3",
   "language": "python",
   "name": "python3"
  },
  "language_info": {
   "codemirror_mode": {
    "name": "ipython",
    "version": 3
   },
   "file_extension": ".py",
   "mimetype": "text/x-python",
   "name": "python",
   "nbconvert_exporter": "python",
   "pygments_lexer": "ipython3",
   "version": "3.8.3"
  }
 },
 "nbformat": 4,
 "nbformat_minor": 4
}
